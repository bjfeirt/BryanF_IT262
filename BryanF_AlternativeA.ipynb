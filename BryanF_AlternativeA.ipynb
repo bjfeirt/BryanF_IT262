{
  "nbformat": 4,
  "nbformat_minor": 0,
  "metadata": {
    "colab": {
      "name": "BryanF_AlternativeA.ipynb",
      "provenance": [],
      "authorship_tag": "ABX9TyOFjRkhOfHIBNKpeM2MAaj1",
      "include_colab_link": true
    },
    "kernelspec": {
      "name": "python3",
      "display_name": "Python 3"
    },
    "language_info": {
      "name": "python"
    }
  },
  "cells": [
    {
      "cell_type": "markdown",
      "metadata": {
        "id": "view-in-github",
        "colab_type": "text"
      },
      "source": [
        "<a href=\"https://colab.research.google.com/github/bjfeirt/BryanF_IT262/blob/main/BryanF_AlternativeA.ipynb\" target=\"_parent\"><img src=\"https://colab.research.google.com/assets/colab-badge.svg\" alt=\"Open In Colab\"/></a>"
      ]
    },
    {
      "cell_type": "code",
      "execution_count": 1,
      "metadata": {
        "colab": {
          "base_uri": "https://localhost:8080/"
        },
        "id": "tIM8O6jgpjpl",
        "outputId": "ffd3d9ff-99ab-4cc8-8208-69d53635eb57"
      },
      "outputs": [
        {
          "output_type": "stream",
          "name": "stdout",
          "text": [
            "Empty DataFrame\n",
            "Columns: [criteria, weight, ratingA, ratingB, scoreA, scoreB]\n",
            "Index: []\n"
          ]
        }
      ],
      "source": [
        "#Create the data frame\n",
        "import pandas as pd\n",
        "import math\n",
        "\n",
        "#create a dataframe for our alternative analysis matrix\n",
        "AA=pd.DataFrame(columns=['criteria', 'weight', 'ratingA', 'ratingB', 'scoreA', 'scoreB'])\n",
        "print(AA)"
      ]
    },
    {
      "cell_type": "code",
      "source": [
        "#first step: add a list of criteria\n",
        "AA['criteria']=['risk', 'ROI', 'customerSatisfaction', 'feasibility', 'strategicAlignment']\n",
        "print(AA)"
      ],
      "metadata": {
        "colab": {
          "base_uri": "https://localhost:8080/"
        },
        "id": "jIKmU3DHs4sJ",
        "outputId": "10fb1906-2447-4b6e-ee31-b685c235bc70"
      },
      "execution_count": 3,
      "outputs": [
        {
          "output_type": "stream",
          "name": "stdout",
          "text": [
            "               criteria weight ratingA ratingB scoreA scoreB\n",
            "0                  risk    NaN     NaN     NaN    NaN    NaN\n",
            "1                   ROI    NaN     NaN     NaN    NaN    NaN\n",
            "2  customerSatisfaction    NaN     NaN     NaN    NaN    NaN\n",
            "3           feasibility    NaN     NaN     NaN    NaN    NaN\n",
            "4    strategicAlignment    NaN     NaN     NaN    NaN    NaN\n"
          ]
        }
      ]
    },
    {
      "cell_type": "code",
      "source": [
        "#second step: identify weights\n",
        "#weights show relative importance of each criterion\n",
        "#they must add up to 1 (or 100 if you use percentages)\n",
        "AA['weight']=[0.3,0.10,0.15,.3,.15]\n",
        "print(AA)"
      ],
      "metadata": {
        "colab": {
          "base_uri": "https://localhost:8080/"
        },
        "id": "t7U8wVLatdOe",
        "outputId": "79b58075-3b7d-42d8-9a06-99dcb143a59d"
      },
      "execution_count": 14,
      "outputs": [
        {
          "output_type": "stream",
          "name": "stdout",
          "text": [
            "               criteria  weight  ratingA  ratingB scoreA scoreB\n",
            "0                  risk    0.30        4        3    1.2    0.9\n",
            "1                   ROI    0.10        1        4   0.15    0.6\n",
            "2  customerSatisfaction    0.15        2        2    0.3    0.3\n",
            "3           feasibility    0.30        1        3    0.3    0.9\n",
            "4    strategicAlignment    0.15        5        2   0.75    0.3\n"
          ]
        }
      ]
    },
    {
      "cell_type": "code",
      "source": [
        "#step 3: rate each alternative across all criteria\n",
        "#choose a scale: 1-5 or 1-7 or 1-10\n",
        "#higher number: an alternative is doing better regarding a given criterion\n",
        "AA['ratingA']=[4,1,2,1,5]\n",
        "AA['ratingB']=[3,4,2,3,2]\n",
        "\n",
        "#step 4: calculate partial scores by multiplying weight * ratings\n",
        "for index, row in AA.iterrows():\n",
        "  AA['scoreA'][index]=row['ratingA']*row['weight']\n",
        "  AA['scoreB'][index]=row['ratingB']*row['weight']\n",
        "\n",
        "print(AA) "
      ],
      "metadata": {
        "colab": {
          "base_uri": "https://localhost:8080/"
        },
        "id": "euqiFyg0uCOm",
        "outputId": "e2c61896-5065-42b0-d138-97f85cdc177c"
      },
      "execution_count": 15,
      "outputs": [
        {
          "output_type": "stream",
          "name": "stdout",
          "text": [
            "               criteria  weight  ratingA  ratingB scoreA scoreB\n",
            "0                  risk    0.30        4        3    1.2    0.9\n",
            "1                   ROI    0.10        1        4    0.1    0.4\n",
            "2  customerSatisfaction    0.15        2        2    0.3    0.3\n",
            "3           feasibility    0.30        1        3    0.3    0.9\n",
            "4    strategicAlignment    0.15        5        2   0.75    0.3\n"
          ]
        },
        {
          "output_type": "stream",
          "name": "stderr",
          "text": [
            "/usr/local/lib/python3.7/dist-packages/ipykernel_launcher.py:9: SettingWithCopyWarning: \n",
            "A value is trying to be set on a copy of a slice from a DataFrame\n",
            "\n",
            "See the caveats in the documentation: https://pandas.pydata.org/pandas-docs/stable/user_guide/indexing.html#returning-a-view-versus-a-copy\n",
            "  if __name__ == '__main__':\n",
            "/usr/local/lib/python3.7/dist-packages/ipykernel_launcher.py:10: SettingWithCopyWarning: \n",
            "A value is trying to be set on a copy of a slice from a DataFrame\n",
            "\n",
            "See the caveats in the documentation: https://pandas.pydata.org/pandas-docs/stable/user_guide/indexing.html#returning-a-view-versus-a-copy\n",
            "  # Remove the CWD from sys.path while we load stuff.\n"
          ]
        }
      ]
    },
    {
      "cell_type": "code",
      "source": [
        "#step 5: add partial scrores to get the total scrores\n",
        "totalScoreA=0\n",
        "totalScoreB=0\n",
        "for index, row in AA.iterrows():\n",
        "  totalScoreA+=row['scoreA']\n",
        "  totalScoreB+=row['scoreB']\n",
        "\n",
        "print('the total score for A is {:.2f} and for B is {:.2f}'.format(totalScoreA, totalScoreB))"
      ],
      "metadata": {
        "colab": {
          "base_uri": "https://localhost:8080/"
        },
        "id": "_LqNjJifwFQ-",
        "outputId": "2c218df2-4839-4c74-f8ee-e60c99cad273"
      },
      "execution_count": 16,
      "outputs": [
        {
          "output_type": "stream",
          "name": "stdout",
          "text": [
            "the total score for A is 2.65 and for B is 2.80\n"
          ]
        }
      ]
    }
  ]
}