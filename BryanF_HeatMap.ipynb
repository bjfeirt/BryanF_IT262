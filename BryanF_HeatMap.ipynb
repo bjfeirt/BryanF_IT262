{
  "nbformat": 4,
  "nbformat_minor": 0,
  "metadata": {
    "colab": {
      "name": "BryanF_HeatMap.ipynb",
      "provenance": [],
      "collapsed_sections": [],
      "authorship_tag": "ABX9TyNcH/yIif62UirCj/6qgubE",
      "include_colab_link": true
    },
    "kernelspec": {
      "name": "python3",
      "display_name": "Python 3"
    },
    "language_info": {
      "name": "python"
    }
  },
  "cells": [
    {
      "cell_type": "markdown",
      "metadata": {
        "id": "view-in-github",
        "colab_type": "text"
      },
      "source": [
        "<a href=\"https://colab.research.google.com/github/bjfeirt/BryanF_IT262/blob/main/BryanF_HeatMap.ipynb\" target=\"_parent\"><img src=\"https://colab.research.google.com/assets/colab-badge.svg\" alt=\"Open In Colab\"/></a>"
      ]
    },
    {
      "cell_type": "code",
      "execution_count": 7,
      "metadata": {
        "id": "4Nomz53Eab2l",
        "colab": {
          "base_uri": "https://localhost:8080/",
          "height": 491
        },
        "outputId": "cff9f3d9-0891-4c50-8485-009d06a268ef"
      },
      "outputs": [
        {
          "output_type": "stream",
          "name": "stdout",
          "text": [
            "likelihood  0.1  0.2  0.4  0.5\n",
            "impact                        \n",
            "1           NaN  0.2  NaN  NaN\n",
            "2           NaN  NaN  NaN  1.0\n",
            "7           0.7  NaN  NaN  NaN\n",
            "10          NaN  NaN  4.0  NaN\n",
            "likelihood     0.1    0.2       0.4   0.5\n",
            "impact                                   \n",
            "1              NaN  users       NaN   NaN\n",
            "2              NaN    NaN       NaN  team\n",
            "7           budget    NaN       NaN   NaN\n",
            "10             NaN    NaN  security   NaN\n"
          ]
        },
        {
          "output_type": "display_data",
          "data": {
            "image/png": "[encoded data removed]",
            "text/plain": [
              "<Figure size 432x288 with 2 Axes>"
            ]
          },
          "metadata": {
            "needs_background": "light"
          }
        }
      ],
      "source": [
        "import seaborn as sns\n",
        "import pandas as pd\n",
        "import numpy as np\n",
        "\n",
        "#create a dataframe (data table)\n",
        "df=pd.DataFrame(columns=['risk', 'likelihood', 'impact', 'score'])\n",
        "\n",
        "df['risk']=['users', 'team', 'budget', 'security']\n",
        "\n",
        "df['likelihood']=[0.2,0.5,0.1,0.4]\n",
        "\n",
        "df['score']=df['impact']*df['likelihood']\n",
        "\n",
        "df['impact']=[1,2,7,10]\n",
        "\n",
        "df['score']=df['impact']*df['likelihood']\n",
        "\n",
        "scoresPivot=df.pivot('impact', 'likelihood', 'score')\n",
        "print(scoresPivot) \n",
        "\n",
        "labelsPivot=df.pivot('impact', 'likelihood', 'risk')\n",
        "print(labelsPivot)\n",
        "\n",
        "#replaces no labels with empty strings\n",
        "labelsPivot.fillna('',inplace=True)\n",
        "\n",
        "#simple heatmap\n",
        "p1=sns.heatmap(scoresPivot, cmap=\"YlGn\", annot=labelsPivot, fmt='')"
      ]
    }
  ]
}